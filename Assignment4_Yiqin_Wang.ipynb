{
 "cells": [
  {
   "cell_type": "markdown",
   "metadata": {},
   "source": [
    "### Outlier Detection"
   ]
  },
  {
   "cell_type": "markdown",
   "metadata": {},
   "source": [
    "### Data\n",
    "Four datasets are provided with this assignment. Each dataset has 500-600 points and 2 features."
   ]
  },
  {
   "cell_type": "code",
   "execution_count": 13,
   "metadata": {},
   "outputs": [],
   "source": [
    "import pandas as pd\n",
    "import numpy as np\n",
    "import math\n",
    "from itertools import product\n",
    "import random\n",
    "import matplotlib.pyplot as plt\n",
    "%matplotlib inline\n",
    "import warnings # for hiding warnings\n",
    "warnings.filterwarnings('ignore')"
   ]
  },
  {
   "cell_type": "code",
   "execution_count": 135,
   "metadata": {
    "scrolled": true
   },
   "outputs": [
    {
     "data": {
      "text/html": [
       "<div>\n",
       "<style scoped>\n",
       "    .dataframe tbody tr th:only-of-type {\n",
       "        vertical-align: middle;\n",
       "    }\n",
       "\n",
       "    .dataframe tbody tr th {\n",
       "        vertical-align: top;\n",
       "    }\n",
       "\n",
       "    .dataframe thead th {\n",
       "        text-align: right;\n",
       "    }\n",
       "</style>\n",
       "<table border=\"1\" class=\"dataframe\">\n",
       "  <thead>\n",
       "    <tr style=\"text-align: right;\">\n",
       "      <th></th>\n",
       "      <th>0</th>\n",
       "      <th>1</th>\n",
       "    </tr>\n",
       "  </thead>\n",
       "  <tbody>\n",
       "    <tr>\n",
       "      <td>0</td>\n",
       "      <td>0.784950</td>\n",
       "      <td>-0.520411</td>\n",
       "    </tr>\n",
       "    <tr>\n",
       "      <td>1</td>\n",
       "      <td>0.241175</td>\n",
       "      <td>0.977350</td>\n",
       "    </tr>\n",
       "    <tr>\n",
       "      <td>2</td>\n",
       "      <td>-0.635824</td>\n",
       "      <td>0.750920</td>\n",
       "    </tr>\n",
       "    <tr>\n",
       "      <td>3</td>\n",
       "      <td>1.213320</td>\n",
       "      <td>-0.624882</td>\n",
       "    </tr>\n",
       "    <tr>\n",
       "      <td>4</td>\n",
       "      <td>-0.386903</td>\n",
       "      <td>0.752005</td>\n",
       "    </tr>\n",
       "    <tr>\n",
       "      <td>...</td>\n",
       "      <td>...</td>\n",
       "      <td>...</td>\n",
       "    </tr>\n",
       "    <tr>\n",
       "      <td>595</td>\n",
       "      <td>-1.007266</td>\n",
       "      <td>0.090117</td>\n",
       "    </tr>\n",
       "    <tr>\n",
       "      <td>596</td>\n",
       "      <td>0.801209</td>\n",
       "      <td>0.033097</td>\n",
       "    </tr>\n",
       "    <tr>\n",
       "      <td>597</td>\n",
       "      <td>0.394946</td>\n",
       "      <td>-0.116183</td>\n",
       "    </tr>\n",
       "    <tr>\n",
       "      <td>598</td>\n",
       "      <td>-0.321788</td>\n",
       "      <td>0.895098</td>\n",
       "    </tr>\n",
       "    <tr>\n",
       "      <td>599</td>\n",
       "      <td>2.018182</td>\n",
       "      <td>-0.127245</td>\n",
       "    </tr>\n",
       "  </tbody>\n",
       "</table>\n",
       "<p>600 rows × 2 columns</p>\n",
       "</div>"
      ],
      "text/plain": [
       "            0         1\n",
       "0    0.784950 -0.520411\n",
       "1    0.241175  0.977350\n",
       "2   -0.635824  0.750920\n",
       "3    1.213320 -0.624882\n",
       "4   -0.386903  0.752005\n",
       "..        ...       ...\n",
       "595 -1.007266  0.090117\n",
       "596  0.801209  0.033097\n",
       "597  0.394946 -0.116183\n",
       "598 -0.321788  0.895098\n",
       "599  2.018182 -0.127245\n",
       "\n",
       "[600 rows x 2 columns]"
      ]
     },
     "execution_count": 135,
     "metadata": {},
     "output_type": "execute_result"
    }
   ],
   "source": [
    "base_path = r'C:\\Users\\wayiqin\\Downloads\\Data_mining\\Assignmen4' # path to the folder that contains the dataset.csv.\n",
    "dataset_name = 'moons.csv'\n",
    "dataset_path = rf'{base_path}/{dataset_name}'\n",
    "dataset1 = pd.read_csv(dataset_path, header=None) # extract each trasaction in each line\n",
    "dataset1"
   ]
  },
  {
   "cell_type": "code",
   "execution_count": 136,
   "metadata": {},
   "outputs": [
    {
     "data": {
      "text/html": [
       "<div>\n",
       "<style scoped>\n",
       "    .dataframe tbody tr th:only-of-type {\n",
       "        vertical-align: middle;\n",
       "    }\n",
       "\n",
       "    .dataframe tbody tr th {\n",
       "        vertical-align: top;\n",
       "    }\n",
       "\n",
       "    .dataframe thead th {\n",
       "        text-align: right;\n",
       "    }\n",
       "</style>\n",
       "<table border=\"1\" class=\"dataframe\">\n",
       "  <thead>\n",
       "    <tr style=\"text-align: right;\">\n",
       "      <th></th>\n",
       "      <th>0</th>\n",
       "      <th>1</th>\n",
       "    </tr>\n",
       "  </thead>\n",
       "  <tbody>\n",
       "    <tr>\n",
       "      <td>0</td>\n",
       "      <td>-0.239828</td>\n",
       "      <td>0.310179</td>\n",
       "    </tr>\n",
       "    <tr>\n",
       "      <td>1</td>\n",
       "      <td>-0.187574</td>\n",
       "      <td>-0.613098</td>\n",
       "    </tr>\n",
       "    <tr>\n",
       "      <td>2</td>\n",
       "      <td>-1.008203</td>\n",
       "      <td>-0.269727</td>\n",
       "    </tr>\n",
       "    <tr>\n",
       "      <td>3</td>\n",
       "      <td>-0.337166</td>\n",
       "      <td>0.015915</td>\n",
       "    </tr>\n",
       "    <tr>\n",
       "      <td>4</td>\n",
       "      <td>-0.173725</td>\n",
       "      <td>-0.290634</td>\n",
       "    </tr>\n",
       "    <tr>\n",
       "      <td>...</td>\n",
       "      <td>...</td>\n",
       "      <td>...</td>\n",
       "    </tr>\n",
       "    <tr>\n",
       "      <td>505</td>\n",
       "      <td>0.006116</td>\n",
       "      <td>0.784630</td>\n",
       "    </tr>\n",
       "    <tr>\n",
       "      <td>506</td>\n",
       "      <td>-0.249016</td>\n",
       "      <td>0.964766</td>\n",
       "    </tr>\n",
       "    <tr>\n",
       "      <td>507</td>\n",
       "      <td>0.112126</td>\n",
       "      <td>-0.839344</td>\n",
       "    </tr>\n",
       "    <tr>\n",
       "      <td>508</td>\n",
       "      <td>0.106740</td>\n",
       "      <td>-0.604287</td>\n",
       "    </tr>\n",
       "    <tr>\n",
       "      <td>509</td>\n",
       "      <td>0.700672</td>\n",
       "      <td>-0.205191</td>\n",
       "    </tr>\n",
       "  </tbody>\n",
       "</table>\n",
       "<p>510 rows × 2 columns</p>\n",
       "</div>"
      ],
      "text/plain": [
       "            0         1\n",
       "0   -0.239828  0.310179\n",
       "1   -0.187574 -0.613098\n",
       "2   -1.008203 -0.269727\n",
       "3   -0.337166  0.015915\n",
       "4   -0.173725 -0.290634\n",
       "..        ...       ...\n",
       "505  0.006116  0.784630\n",
       "506 -0.249016  0.964766\n",
       "507  0.112126 -0.839344\n",
       "508  0.106740 -0.604287\n",
       "509  0.700672 -0.205191\n",
       "\n",
       "[510 rows x 2 columns]"
      ]
     },
     "execution_count": 136,
     "metadata": {},
     "output_type": "execute_result"
    }
   ],
   "source": [
    "base_path = r'C:\\Users\\wayiqin\\Downloads\\Data_mining\\Assignmen4'\n",
    "dataset_name = \"one_center.csv\"\n",
    "dataset_path = rf'{base_path}/{dataset_name}'\n",
    "dataset2 = pd.read_csv(dataset_path, header=None) # extract each trasaction in each line\n",
    "dataset2"
   ]
  },
  {
   "cell_type": "code",
   "execution_count": 137,
   "metadata": {},
   "outputs": [
    {
     "data": {
      "text/html": [
       "<div>\n",
       "<style scoped>\n",
       "    .dataframe tbody tr th:only-of-type {\n",
       "        vertical-align: middle;\n",
       "    }\n",
       "\n",
       "    .dataframe tbody tr th {\n",
       "        vertical-align: top;\n",
       "    }\n",
       "\n",
       "    .dataframe thead th {\n",
       "        text-align: right;\n",
       "    }\n",
       "</style>\n",
       "<table border=\"1\" class=\"dataframe\">\n",
       "  <thead>\n",
       "    <tr style=\"text-align: right;\">\n",
       "      <th></th>\n",
       "      <th>0</th>\n",
       "      <th>1</th>\n",
       "    </tr>\n",
       "  </thead>\n",
       "  <tbody>\n",
       "    <tr>\n",
       "      <td>0</td>\n",
       "      <td>1.760172</td>\n",
       "      <td>2.310179</td>\n",
       "    </tr>\n",
       "    <tr>\n",
       "      <td>1</td>\n",
       "      <td>-2.187574</td>\n",
       "      <td>-2.613098</td>\n",
       "    </tr>\n",
       "    <tr>\n",
       "      <td>2</td>\n",
       "      <td>0.991797</td>\n",
       "      <td>1.730273</td>\n",
       "    </tr>\n",
       "    <tr>\n",
       "      <td>3</td>\n",
       "      <td>1.662834</td>\n",
       "      <td>2.015915</td>\n",
       "    </tr>\n",
       "    <tr>\n",
       "      <td>4</td>\n",
       "      <td>1.826275</td>\n",
       "      <td>1.709366</td>\n",
       "    </tr>\n",
       "    <tr>\n",
       "      <td>...</td>\n",
       "      <td>...</td>\n",
       "      <td>...</td>\n",
       "    </tr>\n",
       "    <tr>\n",
       "      <td>505</td>\n",
       "      <td>-1.993884</td>\n",
       "      <td>-1.215370</td>\n",
       "    </tr>\n",
       "    <tr>\n",
       "      <td>506</td>\n",
       "      <td>1.750984</td>\n",
       "      <td>2.964766</td>\n",
       "    </tr>\n",
       "    <tr>\n",
       "      <td>507</td>\n",
       "      <td>-1.887874</td>\n",
       "      <td>-2.839344</td>\n",
       "    </tr>\n",
       "    <tr>\n",
       "      <td>508</td>\n",
       "      <td>-1.893260</td>\n",
       "      <td>-2.604287</td>\n",
       "    </tr>\n",
       "    <tr>\n",
       "      <td>509</td>\n",
       "      <td>-1.299328</td>\n",
       "      <td>-2.205191</td>\n",
       "    </tr>\n",
       "  </tbody>\n",
       "</table>\n",
       "<p>510 rows × 2 columns</p>\n",
       "</div>"
      ],
      "text/plain": [
       "            0         1\n",
       "0    1.760172  2.310179\n",
       "1   -2.187574 -2.613098\n",
       "2    0.991797  1.730273\n",
       "3    1.662834  2.015915\n",
       "4    1.826275  1.709366\n",
       "..        ...       ...\n",
       "505 -1.993884 -1.215370\n",
       "506  1.750984  2.964766\n",
       "507 -1.887874 -2.839344\n",
       "508 -1.893260 -2.604287\n",
       "509 -1.299328 -2.205191\n",
       "\n",
       "[510 rows x 2 columns]"
      ]
     },
     "execution_count": 137,
     "metadata": {},
     "output_type": "execute_result"
    }
   ],
   "source": [
    "base_path = r'C:\\Users\\wayiqin\\Downloads\\Data_mining\\Assignmen4'\n",
    "dataset_name = \"two_centers.csv\"\n",
    "dataset_path = rf'{base_path}/{dataset_name}'\n",
    "dataset3 = pd.read_csv(dataset_path, header=None) # extract each trasaction in each line\n",
    "dataset3"
   ]
  },
  {
   "cell_type": "code",
   "execution_count": 138,
   "metadata": {},
   "outputs": [
    {
     "data": {
      "text/html": [
       "<div>\n",
       "<style scoped>\n",
       "    .dataframe tbody tr th:only-of-type {\n",
       "        vertical-align: middle;\n",
       "    }\n",
       "\n",
       "    .dataframe tbody tr th {\n",
       "        vertical-align: top;\n",
       "    }\n",
       "\n",
       "    .dataframe thead th {\n",
       "        text-align: right;\n",
       "    }\n",
       "</style>\n",
       "<table border=\"1\" class=\"dataframe\">\n",
       "  <thead>\n",
       "    <tr style=\"text-align: right;\">\n",
       "      <th></th>\n",
       "      <th>0</th>\n",
       "      <th>1</th>\n",
       "    </tr>\n",
       "  </thead>\n",
       "  <tbody>\n",
       "    <tr>\n",
       "      <td>0</td>\n",
       "      <td>1.280516</td>\n",
       "      <td>2.930537</td>\n",
       "    </tr>\n",
       "    <tr>\n",
       "      <td>1</td>\n",
       "      <td>-2.112544</td>\n",
       "      <td>-2.367859</td>\n",
       "    </tr>\n",
       "    <tr>\n",
       "      <td>2</td>\n",
       "      <td>-1.024610</td>\n",
       "      <td>1.190818</td>\n",
       "    </tr>\n",
       "    <tr>\n",
       "      <td>3</td>\n",
       "      <td>0.988501</td>\n",
       "      <td>2.047746</td>\n",
       "    </tr>\n",
       "    <tr>\n",
       "      <td>4</td>\n",
       "      <td>1.478824</td>\n",
       "      <td>1.128097</td>\n",
       "    </tr>\n",
       "    <tr>\n",
       "      <td>...</td>\n",
       "      <td>...</td>\n",
       "      <td>...</td>\n",
       "    </tr>\n",
       "    <tr>\n",
       "      <td>505</td>\n",
       "      <td>-1.996330</td>\n",
       "      <td>-1.529222</td>\n",
       "    </tr>\n",
       "    <tr>\n",
       "      <td>506</td>\n",
       "      <td>1.252951</td>\n",
       "      <td>4.894298</td>\n",
       "    </tr>\n",
       "    <tr>\n",
       "      <td>507</td>\n",
       "      <td>-1.932724</td>\n",
       "      <td>-2.503607</td>\n",
       "    </tr>\n",
       "    <tr>\n",
       "      <td>508</td>\n",
       "      <td>-1.935956</td>\n",
       "      <td>-2.362572</td>\n",
       "    </tr>\n",
       "    <tr>\n",
       "      <td>509</td>\n",
       "      <td>-1.579597</td>\n",
       "      <td>-2.123115</td>\n",
       "    </tr>\n",
       "  </tbody>\n",
       "</table>\n",
       "<p>510 rows × 2 columns</p>\n",
       "</div>"
      ],
      "text/plain": [
       "            0         1\n",
       "0    1.280516  2.930537\n",
       "1   -2.112544 -2.367859\n",
       "2   -1.024610  1.190818\n",
       "3    0.988501  2.047746\n",
       "4    1.478824  1.128097\n",
       "..        ...       ...\n",
       "505 -1.996330 -1.529222\n",
       "506  1.252951  4.894298\n",
       "507 -1.932724 -2.503607\n",
       "508 -1.935956 -2.362572\n",
       "509 -1.579597 -2.123115\n",
       "\n",
       "[510 rows x 2 columns]"
      ]
     },
     "execution_count": 138,
     "metadata": {},
     "output_type": "execute_result"
    }
   ],
   "source": [
    "base_path = r'C:\\Users\\wayiqin\\Downloads\\Data_mining\\Assignmen4'\n",
    "dataset_name = \"two_centers_scattered.csv\"\n",
    "dataset_path = rf'{base_path}/{dataset_name}'\n",
    "dataset4 = pd.read_csv(dataset_path, header=None) # extract each trasaction in each line\n",
    "dataset4"
   ]
  },
  {
   "cell_type": "markdown",
   "metadata": {},
   "source": [
    "### 1. 𝜒2-statistic\n",
    "- A. Detect the outliers by applying the boxplot method on the calculated 𝜒2-statistics (points that their 𝜒2 fall beyond 1.5 times the interquartile range above the third quartile or below the first quartile are considered as outliers)."
   ]
  },
  {
   "cell_type": "code",
   "execution_count": 58,
   "metadata": {
    "scrolled": true
   },
   "outputs": [
    {
     "data": {
      "text/html": [
       "<div>\n",
       "<style scoped>\n",
       "    .dataframe tbody tr th:only-of-type {\n",
       "        vertical-align: middle;\n",
       "    }\n",
       "\n",
       "    .dataframe tbody tr th {\n",
       "        vertical-align: top;\n",
       "    }\n",
       "\n",
       "    .dataframe thead th {\n",
       "        text-align: right;\n",
       "    }\n",
       "</style>\n",
       "<table border=\"1\" class=\"dataframe\">\n",
       "  <thead>\n",
       "    <tr style=\"text-align: right;\">\n",
       "      <th></th>\n",
       "      <th>0</th>\n",
       "      <th>1</th>\n",
       "      <th>Chi2</th>\n",
       "    </tr>\n",
       "  </thead>\n",
       "  <tbody>\n",
       "    <tr>\n",
       "      <td>0</td>\n",
       "      <td>0.784950</td>\n",
       "      <td>-0.520411</td>\n",
       "      <td>2.557094</td>\n",
       "    </tr>\n",
       "    <tr>\n",
       "      <td>1</td>\n",
       "      <td>0.241175</td>\n",
       "      <td>0.977350</td>\n",
       "      <td>2.337454</td>\n",
       "    </tr>\n",
       "    <tr>\n",
       "      <td>2</td>\n",
       "      <td>-0.635824</td>\n",
       "      <td>0.750920</td>\n",
       "      <td>3.633037</td>\n",
       "    </tr>\n",
       "    <tr>\n",
       "      <td>3</td>\n",
       "      <td>1.213320</td>\n",
       "      <td>-0.624882</td>\n",
       "      <td>4.111756</td>\n",
       "    </tr>\n",
       "    <tr>\n",
       "      <td>4</td>\n",
       "      <td>-0.386903</td>\n",
       "      <td>0.752005</td>\n",
       "      <td>2.630494</td>\n",
       "    </tr>\n",
       "    <tr>\n",
       "      <td>...</td>\n",
       "      <td>...</td>\n",
       "      <td>...</td>\n",
       "      <td>...</td>\n",
       "    </tr>\n",
       "    <tr>\n",
       "      <td>595</td>\n",
       "      <td>-1.007266</td>\n",
       "      <td>0.090117</td>\n",
       "      <td>4.640940</td>\n",
       "    </tr>\n",
       "    <tr>\n",
       "      <td>596</td>\n",
       "      <td>0.801209</td>\n",
       "      <td>0.033097</td>\n",
       "      <td>0.363866</td>\n",
       "    </tr>\n",
       "    <tr>\n",
       "      <td>597</td>\n",
       "      <td>0.394946</td>\n",
       "      <td>-0.116183</td>\n",
       "      <td>0.553770</td>\n",
       "    </tr>\n",
       "    <tr>\n",
       "      <td>598</td>\n",
       "      <td>-0.321788</td>\n",
       "      <td>0.895098</td>\n",
       "      <td>3.087560</td>\n",
       "    </tr>\n",
       "    <tr>\n",
       "      <td>599</td>\n",
       "      <td>2.018182</td>\n",
       "      <td>-0.127245</td>\n",
       "      <td>5.175399</td>\n",
       "    </tr>\n",
       "  </tbody>\n",
       "</table>\n",
       "<p>600 rows × 3 columns</p>\n",
       "</div>"
      ],
      "text/plain": [
       "            0         1      Chi2\n",
       "0    0.784950 -0.520411  2.557094\n",
       "1    0.241175  0.977350  2.337454\n",
       "2   -0.635824  0.750920  3.633037\n",
       "3    1.213320 -0.624882  4.111756\n",
       "4   -0.386903  0.752005  2.630494\n",
       "..        ...       ...       ...\n",
       "595 -1.007266  0.090117  4.640940\n",
       "596  0.801209  0.033097  0.363866\n",
       "597  0.394946 -0.116183  0.553770\n",
       "598 -0.321788  0.895098  3.087560\n",
       "599  2.018182 -0.127245  5.175399\n",
       "\n",
       "[600 rows x 3 columns]"
      ]
     },
     "execution_count": 58,
     "metadata": {},
     "output_type": "execute_result"
    }
   ],
   "source": [
    "# dataset1\n",
    "a,b = dataset1.mean(axis = 0)\n",
    "chi2_a0 = pd.DataFrame((dataset1.iloc[:,0] - a)**2/a)\n",
    "chi2_a1 = pd.DataFrame((dataset1.iloc[:,1] - b)**2/b)\n",
    "chi2 = chi2_a0.iloc[:,0] + chi2_a1.iloc[:,0]\n",
    "dataset1[\"Chi2\"] = chi2\n",
    "dataset1"
   ]
  },
  {
   "cell_type": "code",
   "execution_count": 59,
   "metadata": {},
   "outputs": [
    {
     "name": "stdout",
     "output_type": "stream",
     "text": [
      "0     -10.001965\n",
      "1     -30.942187\n",
      "2     -34.967765\n",
      "3      -2.934681\n",
      "4      -7.106762\n",
      "         ...    \n",
      "505   -53.075162\n",
      "506   -81.174281\n",
      "507   -57.851862\n",
      "508   -29.917127\n",
      "509   -19.719274\n",
      "Length: 510, dtype: float64\n"
     ]
    },
    {
     "data": {
      "text/html": [
       "<div>\n",
       "<style scoped>\n",
       "    .dataframe tbody tr th:only-of-type {\n",
       "        vertical-align: middle;\n",
       "    }\n",
       "\n",
       "    .dataframe tbody tr th {\n",
       "        vertical-align: top;\n",
       "    }\n",
       "\n",
       "    .dataframe thead th {\n",
       "        text-align: right;\n",
       "    }\n",
       "</style>\n",
       "<table border=\"1\" class=\"dataframe\">\n",
       "  <thead>\n",
       "    <tr style=\"text-align: right;\">\n",
       "      <th></th>\n",
       "      <th>0</th>\n",
       "      <th>1</th>\n",
       "      <th>Chi2</th>\n",
       "    </tr>\n",
       "  </thead>\n",
       "  <tbody>\n",
       "    <tr>\n",
       "      <td>0</td>\n",
       "      <td>-0.239828</td>\n",
       "      <td>0.310179</td>\n",
       "      <td>-10.001965</td>\n",
       "    </tr>\n",
       "    <tr>\n",
       "      <td>1</td>\n",
       "      <td>-0.187574</td>\n",
       "      <td>-0.613098</td>\n",
       "      <td>-30.942187</td>\n",
       "    </tr>\n",
       "    <tr>\n",
       "      <td>2</td>\n",
       "      <td>-1.008203</td>\n",
       "      <td>-0.269727</td>\n",
       "      <td>-34.967765</td>\n",
       "    </tr>\n",
       "    <tr>\n",
       "      <td>3</td>\n",
       "      <td>-0.337166</td>\n",
       "      <td>0.015915</td>\n",
       "      <td>-2.934681</td>\n",
       "    </tr>\n",
       "    <tr>\n",
       "      <td>4</td>\n",
       "      <td>-0.173725</td>\n",
       "      <td>-0.290634</td>\n",
       "      <td>-7.106762</td>\n",
       "    </tr>\n",
       "    <tr>\n",
       "      <td>...</td>\n",
       "      <td>...</td>\n",
       "      <td>...</td>\n",
       "      <td>...</td>\n",
       "    </tr>\n",
       "    <tr>\n",
       "      <td>505</td>\n",
       "      <td>0.006116</td>\n",
       "      <td>0.784630</td>\n",
       "      <td>-53.075162</td>\n",
       "    </tr>\n",
       "    <tr>\n",
       "      <td>506</td>\n",
       "      <td>-0.249016</td>\n",
       "      <td>0.964766</td>\n",
       "      <td>-81.174281</td>\n",
       "    </tr>\n",
       "    <tr>\n",
       "      <td>507</td>\n",
       "      <td>0.112126</td>\n",
       "      <td>-0.839344</td>\n",
       "      <td>-57.851862</td>\n",
       "    </tr>\n",
       "    <tr>\n",
       "      <td>508</td>\n",
       "      <td>0.106740</td>\n",
       "      <td>-0.604287</td>\n",
       "      <td>-29.917127</td>\n",
       "    </tr>\n",
       "    <tr>\n",
       "      <td>509</td>\n",
       "      <td>0.700672</td>\n",
       "      <td>-0.205191</td>\n",
       "      <td>-19.719274</td>\n",
       "    </tr>\n",
       "  </tbody>\n",
       "</table>\n",
       "<p>510 rows × 3 columns</p>\n",
       "</div>"
      ],
      "text/plain": [
       "            0         1       Chi2\n",
       "0   -0.239828  0.310179 -10.001965\n",
       "1   -0.187574 -0.613098 -30.942187\n",
       "2   -1.008203 -0.269727 -34.967765\n",
       "3   -0.337166  0.015915  -2.934681\n",
       "4   -0.173725 -0.290634  -7.106762\n",
       "..        ...       ...        ...\n",
       "505  0.006116  0.784630 -53.075162\n",
       "506 -0.249016  0.964766 -81.174281\n",
       "507  0.112126 -0.839344 -57.851862\n",
       "508  0.106740 -0.604287 -29.917127\n",
       "509  0.700672 -0.205191 -19.719274\n",
       "\n",
       "[510 rows x 3 columns]"
      ]
     },
     "execution_count": 59,
     "metadata": {},
     "output_type": "execute_result"
    }
   ],
   "source": [
    "# dataset2\n",
    "a,b = dataset2.mean(axis = 0)\n",
    "chi2_b0 = pd.DataFrame((dataset2.iloc[:,0] - a)**2/a)\n",
    "chi2_b1 = pd.DataFrame((dataset2.iloc[:,1] - b)**2/b)\n",
    "chi2 = chi2_b0.iloc[:,0] + chi2_b1.iloc[:,0]\n",
    "print(chi2)\n",
    "dataset2[\"Chi2\"] = chi2\n",
    "dataset2"
   ]
  },
  {
   "cell_type": "code",
   "execution_count": 60,
   "metadata": {},
   "outputs": [
    {
     "name": "stdout",
     "output_type": "stream",
     "text": [
      "0     -549.887190\n",
      "1     -708.895547\n",
      "2     -286.064065\n",
      "3     -432.428286\n",
      "4     -354.324511\n",
      "          ...    \n",
      "505   -239.874083\n",
      "506   -838.734430\n",
      "507   -774.401426\n",
      "508   -668.559049\n",
      "509   -451.566810\n",
      "Length: 510, dtype: float64\n"
     ]
    },
    {
     "data": {
      "text/html": [
       "<div>\n",
       "<style scoped>\n",
       "    .dataframe tbody tr th:only-of-type {\n",
       "        vertical-align: middle;\n",
       "    }\n",
       "\n",
       "    .dataframe tbody tr th {\n",
       "        vertical-align: top;\n",
       "    }\n",
       "\n",
       "    .dataframe thead th {\n",
       "        text-align: right;\n",
       "    }\n",
       "</style>\n",
       "<table border=\"1\" class=\"dataframe\">\n",
       "  <thead>\n",
       "    <tr style=\"text-align: right;\">\n",
       "      <th></th>\n",
       "      <th>0</th>\n",
       "      <th>1</th>\n",
       "      <th>Chi2</th>\n",
       "    </tr>\n",
       "  </thead>\n",
       "  <tbody>\n",
       "    <tr>\n",
       "      <td>0</td>\n",
       "      <td>1.760172</td>\n",
       "      <td>2.310179</td>\n",
       "      <td>-549.887190</td>\n",
       "    </tr>\n",
       "    <tr>\n",
       "      <td>1</td>\n",
       "      <td>-2.187574</td>\n",
       "      <td>-2.613098</td>\n",
       "      <td>-708.895547</td>\n",
       "    </tr>\n",
       "    <tr>\n",
       "      <td>2</td>\n",
       "      <td>0.991797</td>\n",
       "      <td>1.730273</td>\n",
       "      <td>-286.064065</td>\n",
       "    </tr>\n",
       "    <tr>\n",
       "      <td>3</td>\n",
       "      <td>1.662834</td>\n",
       "      <td>2.015915</td>\n",
       "      <td>-432.428286</td>\n",
       "    </tr>\n",
       "    <tr>\n",
       "      <td>4</td>\n",
       "      <td>1.826275</td>\n",
       "      <td>1.709366</td>\n",
       "      <td>-354.324511</td>\n",
       "    </tr>\n",
       "    <tr>\n",
       "      <td>...</td>\n",
       "      <td>...</td>\n",
       "      <td>...</td>\n",
       "      <td>...</td>\n",
       "    </tr>\n",
       "    <tr>\n",
       "      <td>505</td>\n",
       "      <td>-1.993884</td>\n",
       "      <td>-1.215370</td>\n",
       "      <td>-239.874083</td>\n",
       "    </tr>\n",
       "    <tr>\n",
       "      <td>506</td>\n",
       "      <td>1.750984</td>\n",
       "      <td>2.964766</td>\n",
       "      <td>-838.734430</td>\n",
       "    </tr>\n",
       "    <tr>\n",
       "      <td>507</td>\n",
       "      <td>-1.887874</td>\n",
       "      <td>-2.839344</td>\n",
       "      <td>-774.401426</td>\n",
       "    </tr>\n",
       "    <tr>\n",
       "      <td>508</td>\n",
       "      <td>-1.893260</td>\n",
       "      <td>-2.604287</td>\n",
       "      <td>-668.559049</td>\n",
       "    </tr>\n",
       "    <tr>\n",
       "      <td>509</td>\n",
       "      <td>-1.299328</td>\n",
       "      <td>-2.205191</td>\n",
       "      <td>-451.566810</td>\n",
       "    </tr>\n",
       "  </tbody>\n",
       "</table>\n",
       "<p>510 rows × 3 columns</p>\n",
       "</div>"
      ],
      "text/plain": [
       "            0         1        Chi2\n",
       "0    1.760172  2.310179 -549.887190\n",
       "1   -2.187574 -2.613098 -708.895547\n",
       "2    0.991797  1.730273 -286.064065\n",
       "3    1.662834  2.015915 -432.428286\n",
       "4    1.826275  1.709366 -354.324511\n",
       "..        ...       ...         ...\n",
       "505 -1.993884 -1.215370 -239.874083\n",
       "506  1.750984  2.964766 -838.734430\n",
       "507 -1.887874 -2.839344 -774.401426\n",
       "508 -1.893260 -2.604287 -668.559049\n",
       "509 -1.299328 -2.205191 -451.566810\n",
       "\n",
       "[510 rows x 3 columns]"
      ]
     },
     "execution_count": 60,
     "metadata": {},
     "output_type": "execute_result"
    }
   ],
   "source": [
    "# dataset3\n",
    "a,b = dataset3.mean(axis = 0)\n",
    "chi2_c0 = pd.DataFrame((dataset3.iloc[:,0] - a)**2/a)\n",
    "chi2_c1 = pd.DataFrame((dataset3.iloc[:,1] - b)**2/b)\n",
    "chi2 = chi2_c0.iloc[:,0] + chi2_c1.iloc[:,0]\n",
    "print(chi2)\n",
    "dataset3[\"Chi2\"] = chi2\n",
    "dataset3"
   ]
  },
  {
   "cell_type": "code",
   "execution_count": 61,
   "metadata": {},
   "outputs": [
    {
     "name": "stdout",
     "output_type": "stream",
     "text": [
      "0     -1085.535509\n",
      "1      -756.153449\n",
      "2      -192.450777\n",
      "3      -535.244328\n",
      "4      -200.344515\n",
      "          ...     \n",
      "505    -350.857837\n",
      "506   -2961.710132\n",
      "507    -823.600433\n",
      "508    -740.424314\n",
      "509    -587.790743\n",
      "Length: 510, dtype: float64\n"
     ]
    },
    {
     "data": {
      "text/html": [
       "<div>\n",
       "<style scoped>\n",
       "    .dataframe tbody tr th:only-of-type {\n",
       "        vertical-align: middle;\n",
       "    }\n",
       "\n",
       "    .dataframe tbody tr th {\n",
       "        vertical-align: top;\n",
       "    }\n",
       "\n",
       "    .dataframe thead th {\n",
       "        text-align: right;\n",
       "    }\n",
       "</style>\n",
       "<table border=\"1\" class=\"dataframe\">\n",
       "  <thead>\n",
       "    <tr style=\"text-align: right;\">\n",
       "      <th></th>\n",
       "      <th>0</th>\n",
       "      <th>1</th>\n",
       "      <th>Chi2</th>\n",
       "    </tr>\n",
       "  </thead>\n",
       "  <tbody>\n",
       "    <tr>\n",
       "      <td>0</td>\n",
       "      <td>1.280516</td>\n",
       "      <td>2.930537</td>\n",
       "      <td>-1085.535509</td>\n",
       "    </tr>\n",
       "    <tr>\n",
       "      <td>1</td>\n",
       "      <td>-2.112544</td>\n",
       "      <td>-2.367859</td>\n",
       "      <td>-756.153449</td>\n",
       "    </tr>\n",
       "    <tr>\n",
       "      <td>2</td>\n",
       "      <td>-1.024610</td>\n",
       "      <td>1.190818</td>\n",
       "      <td>-192.450777</td>\n",
       "    </tr>\n",
       "    <tr>\n",
       "      <td>3</td>\n",
       "      <td>0.988501</td>\n",
       "      <td>2.047746</td>\n",
       "      <td>-535.244328</td>\n",
       "    </tr>\n",
       "    <tr>\n",
       "      <td>4</td>\n",
       "      <td>1.478824</td>\n",
       "      <td>1.128097</td>\n",
       "      <td>-200.344515</td>\n",
       "    </tr>\n",
       "    <tr>\n",
       "      <td>...</td>\n",
       "      <td>...</td>\n",
       "      <td>...</td>\n",
       "      <td>...</td>\n",
       "    </tr>\n",
       "    <tr>\n",
       "      <td>505</td>\n",
       "      <td>-1.996330</td>\n",
       "      <td>-1.529222</td>\n",
       "      <td>-350.857837</td>\n",
       "    </tr>\n",
       "    <tr>\n",
       "      <td>506</td>\n",
       "      <td>1.252951</td>\n",
       "      <td>4.894298</td>\n",
       "      <td>-2961.710132</td>\n",
       "    </tr>\n",
       "    <tr>\n",
       "      <td>507</td>\n",
       "      <td>-1.932724</td>\n",
       "      <td>-2.503607</td>\n",
       "      <td>-823.600433</td>\n",
       "    </tr>\n",
       "    <tr>\n",
       "      <td>508</td>\n",
       "      <td>-1.935956</td>\n",
       "      <td>-2.362572</td>\n",
       "      <td>-740.424314</td>\n",
       "    </tr>\n",
       "    <tr>\n",
       "      <td>509</td>\n",
       "      <td>-1.579597</td>\n",
       "      <td>-2.123115</td>\n",
       "      <td>-587.790743</td>\n",
       "    </tr>\n",
       "  </tbody>\n",
       "</table>\n",
       "<p>510 rows × 3 columns</p>\n",
       "</div>"
      ],
      "text/plain": [
       "            0         1         Chi2\n",
       "0    1.280516  2.930537 -1085.535509\n",
       "1   -2.112544 -2.367859  -756.153449\n",
       "2   -1.024610  1.190818  -192.450777\n",
       "3    0.988501  2.047746  -535.244328\n",
       "4    1.478824  1.128097  -200.344515\n",
       "..        ...       ...          ...\n",
       "505 -1.996330 -1.529222  -350.857837\n",
       "506  1.252951  4.894298 -2961.710132\n",
       "507 -1.932724 -2.503607  -823.600433\n",
       "508 -1.935956 -2.362572  -740.424314\n",
       "509 -1.579597 -2.123115  -587.790743\n",
       "\n",
       "[510 rows x 3 columns]"
      ]
     },
     "execution_count": 61,
     "metadata": {},
     "output_type": "execute_result"
    }
   ],
   "source": [
    "# dataset4\n",
    "a,b = dataset4.mean(axis = 0)\n",
    "chi2_d0 = pd.DataFrame((dataset4.iloc[:,0] - a)**2/a)\n",
    "chi2_d1 = pd.DataFrame((dataset4.iloc[:,1] - b)**2/b)\n",
    "chi2 = chi2_d0.iloc[:,0] + chi2_d1.iloc[:,0]\n",
    "print(chi2)\n",
    "dataset4[\"Chi2\"] = chi2\n",
    "dataset4"
   ]
  },
  {
   "cell_type": "markdown",
   "metadata": {},
   "source": [
    "- B. Use matplotlib to draw the boxplots of 𝜒2-statistics."
   ]
  },
  {
   "cell_type": "code",
   "execution_count": 69,
   "metadata": {},
   "outputs": [],
   "source": [
    "# define boxplot\n",
    "def boxplotfig(dataset, datsetname):\n",
    "    # Create a figure instance\n",
    "    fig = plt.figure(1, figsize=(9, 6))\n",
    "\n",
    "    # Create an axes instance\n",
    "    ax = fig.add_subplot(111)\n",
    "\n",
    "    # Create the boxplot\n",
    "    bp = ax.boxplot(dataset)\n",
    "\n",
    "    for flier in bp['fliers']:\n",
    "        flier.set(marker='o', color='red', alpha=0.5)\n",
    "    ax.set_xticklabels([datsetname])    \n",
    "    plt.show()"
   ]
  },
  {
   "cell_type": "code",
   "execution_count": 71,
   "metadata": {},
   "outputs": [
    {
     "data": {
      "image/png": "[encoded data removed]",
      "text/plain": [
       "<Figure size 648x432 with 1 Axes>"
      ]
     },
     "metadata": {
      "needs_background": "light"
     },
     "output_type": "display_data"
    }
   ],
   "source": [
    "boxplotfig(dataset1[\"Chi2\"], 'moons')"
   ]
  },
  {
   "cell_type": "code",
   "execution_count": 72,
   "metadata": {},
   "outputs": [
    {
     "data": {
      "image/png": "[encoded data removed]",
      "text/plain": [
       "<Figure size 648x432 with 1 Axes>"
      ]
     },
     "metadata": {
      "needs_background": "light"
     },
     "output_type": "display_data"
    }
   ],
   "source": [
    "boxplotfig(dataset2[\"Chi2\"], 'one_center')"
   ]
  },
  {
   "cell_type": "code",
   "execution_count": 73,
   "metadata": {},
   "outputs": [
    {
     "data": {
      "image/png": "[encoded data removed]",
      "text/plain": [
       "<Figure size 648x432 with 1 Axes>"
      ]
     },
     "metadata": {
      "needs_background": "light"
     },
     "output_type": "display_data"
    }
   ],
   "source": [
    "boxplotfig(dataset3[\"Chi2\"], 'two_centers')"
   ]
  },
  {
   "cell_type": "code",
   "execution_count": 74,
   "metadata": {},
   "outputs": [
    {
     "data": {
      "image/png": "[encoded data removed]",
      "text/plain": [
       "<Figure size 648x432 with 1 Axes>"
      ]
     },
     "metadata": {
      "needs_background": "light"
     },
     "output_type": "display_data"
    }
   ],
   "source": [
    "boxplotfig(dataset4[\"Chi2\"], 'two_center_scattered')"
   ]
  },
  {
   "cell_type": "markdown",
   "metadata": {},
   "source": [
    "- C. Use matplotlib to draw a scatter plot and mark the outlier points in red. Display the regular points in black."
   ]
  },
  {
   "cell_type": "code",
   "execution_count": 81,
   "metadata": {},
   "outputs": [],
   "source": [
    "def scatterfig(dataset, datasetname):\n",
    "    q1 = dataset['Chi2'].quantile(0.25)\n",
    "    q3 = dataset['Chi2'].quantile(0.75)\n",
    "    IQR = q3 -q1\n",
    "    lower = q1 - 1.5*IQR\n",
    "    upper = q3 + 1.5*IQR\n",
    "    plt.figure()\n",
    "    for i in range(0, len(dataset.index)):\n",
    "        if (dataset.iloc[i,2] > upper) or (dataset.iloc[i,2] < lower):\n",
    "            plt.plot(dataset.iloc[i,0], dataset.iloc[i,1], 'o', color = 'r')\n",
    "        else:\n",
    "            plt.plot(dataset.iloc[i,0], dataset.iloc[i,1], 'o', color = 'k')\n",
    "    plt.title(datasetname)\n",
    "    plt.show()"
   ]
  },
  {
   "cell_type": "code",
   "execution_count": 82,
   "metadata": {},
   "outputs": [
    {
     "data": {
      "image/png": "[encoded data removed]",
      "text/plain": [
       "<Figure size 432x288 with 1 Axes>"
      ]
     },
     "metadata": {
      "needs_background": "light"
     },
     "output_type": "display_data"
    }
   ],
   "source": [
    "scatterfig(dataset1, \"moons\")"
   ]
  },
  {
   "cell_type": "code",
   "execution_count": 83,
   "metadata": {
    "scrolled": true
   },
   "outputs": [
    {
     "data": {
      "image/png": "[encoded data removed]",
      "text/plain": [
       "<Figure size 432x288 with 1 Axes>"
      ]
     },
     "metadata": {
      "needs_background": "light"
     },
     "output_type": "display_data"
    }
   ],
   "source": [
    "scatterfig(dataset2, \"one_center\")"
   ]
  },
  {
   "cell_type": "code",
   "execution_count": 84,
   "metadata": {
    "scrolled": true
   },
   "outputs": [
    {
     "data": {
      "image/png": "[encoded data removed]",
      "text/plain": [
       "<Figure size 432x288 with 1 Axes>"
      ]
     },
     "metadata": {
      "needs_background": "light"
     },
     "output_type": "display_data"
    }
   ],
   "source": [
    "scatterfig(dataset3, \"two_centers\")"
   ]
  },
  {
   "cell_type": "code",
   "execution_count": 85,
   "metadata": {},
   "outputs": [
    {
     "data": {
      "image/png": "[encoded data removed]",
      "text/plain": [
       "<Figure size 432x288 with 1 Axes>"
      ]
     },
     "metadata": {
      "needs_background": "light"
     },
     "output_type": "display_data"
    }
   ],
   "source": [
    "scatterfig(dataset4, \"two_centers_scattered\")"
   ]
  },
  {
   "cell_type": "markdown",
   "metadata": {},
   "source": [
    "- D. In your words, explain if this method worked fine or not."
   ]
  },
  {
   "cell_type": "markdown",
   "metadata": {},
   "source": [
    "This method doesn't work fine, because the dataset may contains different scale data, such as the two_centers_scatter dataset contains two clusters, but the value scaled sparse in the right top cluster, so by using chi-2 test, the point value is larger, the more possible this point will be regard as the outlier. So this method can not worked fine in the two or more clusters dataset, only can be used better in one cluster dataset. "
   ]
  },
  {
   "cell_type": "markdown",
   "metadata": {},
   "source": [
    "### 2. DBScan\n",
    "- A. Run DBScan with different configurations (only change min_samples and eps)."
   ]
  },
  {
   "cell_type": "code",
   "execution_count": 104,
   "metadata": {},
   "outputs": [],
   "source": [
    "# Compute DBSCAN\n",
    "from sklearn.cluster import DBSCAN\n",
    "from sklearn import metrics\n",
    "def descan(dataset, eps, min_samples):\n",
    "    db = DBSCAN(eps, min_samples).fit(dataset)\n",
    "    labels = db.labels_\n",
    "\n",
    "#     # Number of clusters in labels, ignoring noise if present.\n",
    "    n_clusters_ = len(set(labels)) - (1 if -1 in labels else 0)\n",
    "#     print(n_clusters_)\n",
    "#     n_noise_ = list(labels).count(-1)\n",
    "    if n_clusters_ <= 1:\n",
    "        silhouette = 0\n",
    "        print(n_clusters_, silhouette)\n",
    "    else:\n",
    "        silhouette = metrics.silhouette_score(dataset, labels)\n",
    "        print(n_clusters_, silhouette)\n",
    "    return n_clusters_, silhouette\n"
   ]
  },
  {
   "cell_type": "code",
   "execution_count": 139,
   "metadata": {
    "scrolled": true
   },
   "outputs": [
    {
     "name": "stdout",
     "output_type": "stream",
     "text": [
      "1 0\n",
      "2 0.0764437248327531\n",
      "0 0\n",
      "0 0\n",
      "0 0\n",
      "1 0\n",
      "1 0\n",
      "2 0.2158622355321754\n",
      "0 0\n",
      "0 0\n",
      "1 0\n",
      "1 0\n",
      "1 0\n",
      "1 0\n",
      "0 0\n",
      "1 0\n",
      "1 0\n",
      "1 0\n",
      "1 0\n",
      "1 0\n"
     ]
    },
    {
     "data": {
      "image/png": "[encoded data removed]",
      "text/plain": [
       "<Figure size 432x288 with 1 Axes>"
      ]
     },
     "metadata": {
      "needs_background": "light"
     },
     "output_type": "display_data"
    }
   ],
   "source": [
    "epsilons = [0.2, 0.3, 0.5, 0.8]\n",
    "min_points = [10, 12, 48, 96, 120]\n",
    "numer_clusters_ = []\n",
    "silhouettes = []\n",
    "for eps in epsilons:\n",
    "    for min_samples in min_points:  \n",
    "        n_clusters_, silhouette = descan(dataset1, eps, min_samples)\n",
    "        numer_clusters_.append(n_clusters_)\n",
    "        silhouettes.append(silhouette)\n",
    "\n",
    "# draw the silhouettes in a graph\n",
    "plt.figure()\n",
    "plt.title('moons', fontsize = 20.0)\n",
    "plt.scatter(numer_clusters_, silhouettes, marker='o', c='blue')\n",
    "plt.xticks(fontsize = 15.0)\n",
    "plt.yticks(fontsize = 15.0)\n",
    "plt.xlabel('k', fontsize = 20.0)\n",
    "plt.ylabel('Silhouette', fontsize = 20.0)\n",
    "plt.show()"
   ]
  },
  {
   "cell_type": "code",
   "execution_count": 142,
   "metadata": {
    "scrolled": true
   },
   "outputs": [
    {
     "name": "stdout",
     "output_type": "stream",
     "text": [
      "1 0\n",
      "2 0.14039438379820088\n",
      "1 0\n",
      "2 -0.1990715732422329\n",
      "0 0\n",
      "1 0\n",
      "1 0\n",
      "1 0\n",
      "1 0\n",
      "1 0\n",
      "1 0\n",
      "1 0\n",
      "1 0\n",
      "1 0\n",
      "1 0\n",
      "1 0\n",
      "1 0\n",
      "1 0\n",
      "1 0\n",
      "1 0\n"
     ]
    },
    {
     "data": {
      "image/png": "[encoded data removed]",
      "text/plain": [
       "<Figure size 432x288 with 1 Axes>"
      ]
     },
     "metadata": {
      "needs_background": "light"
     },
     "output_type": "display_data"
    }
   ],
   "source": [
    "epsilons = [0.2, 0.3, 0.5, 0.8]\n",
    "min_points = [10, 12, 24, 48, 96]\n",
    "numer_clusters_ = []\n",
    "silhouettes = []\n",
    "for eps in epsilons:\n",
    "    for min_samples in min_points:  \n",
    "        n_clusters_, silhouette = descan(dataset2, eps, min_samples)\n",
    "        numer_clusters_.append(n_clusters_)\n",
    "        silhouettes.append(silhouette)\n",
    "\n",
    "# draw the silhouettes in a graph\n",
    "plt.figure()\n",
    "plt.title('one_center', fontsize = 20.0)\n",
    "plt.scatter(numer_clusters_, silhouettes, marker='o', c='blue')\n",
    "plt.xticks(fontsize = 15.0)\n",
    "plt.yticks(fontsize = 15.0)\n",
    "plt.xlabel('k', fontsize = 20.0)\n",
    "plt.ylabel('Silhouette', fontsize = 20.0)\n",
    "plt.show()"
   ]
  },
  {
   "cell_type": "code",
   "execution_count": 144,
   "metadata": {
    "scrolled": true
   },
   "outputs": [
    {
     "name": "stdout",
     "output_type": "stream",
     "text": [
      "3 0.14323589132869238\n",
      "4 -0.09939125796642123\n",
      "3 -0.4222041714769137\n",
      "0 0\n",
      "0 0\n",
      "2 0.6861496087073237\n",
      "2 0.6641849296725114\n",
      "2 0.45972700781528547\n",
      "2 -0.3262713816876578\n",
      "0 0\n",
      "2 0.7346852589039116\n",
      "2 0.7256219858871387\n",
      "2 0.7326612358081535\n",
      "2 0.6768903004183057\n",
      "2 0.2507417430247577\n",
      "2 0.8460592570207806\n",
      "2 0.8460592570207806\n",
      "2 0.8460592570207806\n",
      "2 0.8460592570207806\n",
      "2 0.6592342464737363\n"
     ]
    },
    {
     "data": {
      "image/png": "[encoded data removed]",
      "text/plain": [
       "<Figure size 432x288 with 1 Axes>"
      ]
     },
     "metadata": {
      "needs_background": "light"
     },
     "output_type": "display_data"
    }
   ],
   "source": [
    "epsilons = [0.2, 0.3, 0.5, 0.8]\n",
    "min_points = [10, 12, 24, 48, 96]\n",
    "numer_clusters_ = []\n",
    "silhouettes = []\n",
    "for eps in epsilons:\n",
    "    for min_samples in min_points:  \n",
    "        n_clusters_, silhouette = descan(dataset3, eps, min_samples)\n",
    "        numer_clusters_.append(n_clusters_)\n",
    "        silhouettes.append(silhouette)\n",
    "\n",
    "# draw the silhouettes in a graph\n",
    "plt.figure()\n",
    "plt.title('two_center', fontsize = 20.0)\n",
    "plt.scatter(numer_clusters_, silhouettes, marker='o', c='blue')\n",
    "plt.xticks(fontsize = 15.0)\n",
    "plt.yticks(fontsize = 15.0)\n",
    "plt.xlabel('k', fontsize = 20.0)\n",
    "plt.ylabel('Silhouette', fontsize = 20.0)\n",
    "plt.show()"
   ]
  },
  {
   "cell_type": "code",
   "execution_count": 150,
   "metadata": {
    "scrolled": true
   },
   "outputs": [
    {
     "name": "stdout",
     "output_type": "stream",
     "text": [
      "1 0\n",
      "1 0\n",
      "1 0\n",
      "1 0\n",
      "0 0\n",
      "3 0.2696097913577987\n",
      "1 0\n",
      "1 0\n",
      "1 0\n",
      "1 0\n",
      "3 0.4821565983858076\n",
      "3 0.44894214367328783\n",
      "1 0\n",
      "1 0\n",
      "1 0\n",
      "2 0.6249523715646301\n",
      "2 0.6094481519170675\n",
      "2 0.5462489256118865\n",
      "1 0\n",
      "1 0\n"
     ]
    },
    {
     "data": {
      "image/png": "[encoded data removed]",
      "text/plain": [
       "<Figure size 432x288 with 1 Axes>"
      ]
     },
     "metadata": {
      "needs_background": "light"
     },
     "output_type": "display_data"
    }
   ],
   "source": [
    "epsilons = [0.2, 0.3, 0.5, 0.8]\n",
    "min_points = [10, 12, 24, 48, 96]\n",
    "numer_clusters_ = []\n",
    "silhouettes = []\n",
    "for eps in epsilons:\n",
    "    for min_samples in min_points:  \n",
    "        n_clusters_, silhouette = descan(dataset4, eps, min_samples)\n",
    "        numer_clusters_.append(n_clusters_)\n",
    "        silhouettes.append(silhouette)\n",
    "\n",
    "# draw the silhouettes in a graph\n",
    "plt.figure()\n",
    "plt.title('two_centers_scattered', fontsize = 20.0)\n",
    "plt.scatter(numer_clusters_, silhouettes, marker='o', c='blue')\n",
    "plt.xticks(fontsize = 15.0)\n",
    "plt.yticks(fontsize = 15.0)\n",
    "plt.xlabel('k', fontsize = 20.0)\n",
    "plt.ylabel('Silhouette', fontsize = 20.0)\n",
    "plt.show()"
   ]
  },
  {
   "cell_type": "markdown",
   "metadata": {},
   "source": [
    "- B. Pick the configuration that, in your opinion, gives the best result. Report the value of min_samples and eps for the best result."
   ]
  },
  {
   "cell_type": "markdown",
   "metadata": {},
   "source": [
    "### results:\n",
    "* moons.csv\n",
    "    - best result: eps=0.5, min_samples=48\n",
    "* one_center.csv\n",
    "    - best result: eps=0.8, min_samples=10\n",
    "* two_centers.csv\n",
    "    - best result: eps=0.8, min_samples=48\n",
    "* two_centers_scattered.csv\n",
    "    - best result: eps=0.8, min_samples=10"
   ]
  },
  {
   "cell_type": "markdown",
   "metadata": {},
   "source": [
    "- C. Use matplotlib to draw a scatter plot for the best result and mark the outlier points in red. Display the regular points in black."
   ]
  },
  {
   "cell_type": "code",
   "execution_count": 153,
   "metadata": {},
   "outputs": [
    {
     "data": {
      "image/png": "[encoded data removed]",
      "text/plain": [
       "<Figure size 432x288 with 1 Axes>"
      ]
     },
     "metadata": {
      "needs_background": "light"
     },
     "output_type": "display_data"
    }
   ],
   "source": [
    "# dataset1\n",
    "from sklearn.preprocessing import StandardScaler\n",
    "def dbscan(X, eps, min_samples, datasetname):\n",
    "    ss = StandardScaler()\n",
    "    X = ss.fit_transform(X)\n",
    "    db = DBSCAN(eps=eps, min_samples=min_samples)\n",
    "    result = db.fit(X)\n",
    "    labels = result.labels_\n",
    "    plt.figure()\n",
    "    for i in range(len(labels)):\n",
    "        if labels[i] == -1:\n",
    "            plt.plot(X[i,0], X[i,1], 'o', color = 'r')\n",
    "        else:\n",
    "            plt.plot(X[i,0], X[i,1], 'o', color = 'k')\n",
    "    plt.title(datasetname)\n",
    "    plt.show()\n",
    "\n",
    "db = dbscan(dataset1, eps=0.5, min_samples=48, datasetname='moons')"
   ]
  },
  {
   "cell_type": "code",
   "execution_count": 134,
   "metadata": {
    "scrolled": true
   },
   "outputs": [
    {
     "data": {
      "image/png": "[encoded data removed]",
      "text/plain": [
       "<Figure size 432x288 with 1 Axes>"
      ]
     },
     "metadata": {
      "needs_background": "light"
     },
     "output_type": "display_data"
    }
   ],
   "source": [
    "db = dbscan(dataset2, eps=0.8, min_samples=10, datasetname='one_center')"
   ]
  },
  {
   "cell_type": "code",
   "execution_count": 149,
   "metadata": {
    "scrolled": true
   },
   "outputs": [
    {
     "data": {
      "image/png": "[encoded data removed]",
      "text/plain": [
       "<Figure size 432x288 with 1 Axes>"
      ]
     },
     "metadata": {
      "needs_background": "light"
     },
     "output_type": "display_data"
    }
   ],
   "source": [
    "db = dbscan(dataset3, eps=0.8, min_samples=48, datasetname='two_center')"
   ]
  },
  {
   "cell_type": "code",
   "execution_count": 151,
   "metadata": {},
   "outputs": [
    {
     "data": {
      "image/png": "[encoded data removed]",
      "text/plain": [
       "<Figure size 432x288 with 1 Axes>"
      ]
     },
     "metadata": {
      "needs_background": "light"
     },
     "output_type": "display_data"
    }
   ],
   "source": [
    "db = dbscan(dataset4, eps=0.8, min_samples=10, datasetname='two_centers_scattered')"
   ]
  },
  {
   "cell_type": "markdown",
   "metadata": {},
   "source": [
    "- D. Explain if this method worked fine in this case or not."
   ]
  },
  {
   "cell_type": "markdown",
   "metadata": {},
   "source": [
    "This method can work better than chi-2 test, because it is a density-based clustering algorithm, for this purpose, DBSCAN works by greedily agglomerating points that are close to each other. Clusters with few points in them are considered outliers. So, if we know the best epsilon and min_points, we can get a good way to detect outliers"
   ]
  }
 ],
 "metadata": {
  "kernelspec": {
   "display_name": "Python 3",
   "language": "python",
   "name": "python3"
  },
  "language_info": {
   "codemirror_mode": {
    "name": "ipython",
    "version": 3
   },
   "file_extension": ".py",
   "mimetype": "text/x-python",
   "name": "python",
   "nbconvert_exporter": "python",
   "pygments_lexer": "ipython3",
   "version": "3.7.9"
  }
 },
 "nbformat": 4,
 "nbformat_minor": 4
}
